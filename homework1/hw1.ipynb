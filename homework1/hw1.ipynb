{
 "cells": [
  {
   "cell_type": "code",
   "execution_count": 45,
   "metadata": {},
   "outputs": [],
   "source": [
    "import pandas as pd\n",
    "import requests\n",
    "import io\n",
    "from sklearn.feature_extraction import DictVectorizer\n",
    "from sklearn.linear_model import LinearRegression\n",
    "from sklearn.metrics import mean_squared_error\n",
    "import numpy as np\n",
    "import pickle"
   ]
  },
  {
   "cell_type": "code",
   "execution_count": 39,
   "metadata": {},
   "outputs": [
    {
     "name": "stdout",
     "output_type": "stream",
     "text": [
      "Reading from https://d37ci6vzurychx.cloudfront.net/trip-data/yellow_tripdata_2023-01.parquet\n",
      "Reading from https://d37ci6vzurychx.cloudfront.net/trip-data/yellow_tripdata_2023-02.parquet\n"
     ]
    }
   ],
   "source": [
    "urls = [\n",
    "    \"https://d37ci6vzurychx.cloudfront.net/trip-data/yellow_tripdata_2023-01.parquet\",\n",
    "    \"https://d37ci6vzurychx.cloudfront.net/trip-data/yellow_tripdata_2023-02.parquet\"\n",
    "]\n",
    "\n",
    "dataframes = []\n",
    "for url in urls:\n",
    "    print(f\"Reading from {url}\")\n",
    "    response = requests.get(url)\n",
    "    response.raise_for_status()\n",
    "    \n",
    "    buffer = io.BytesIO(response.content)\n",
    "    df = pd.read_parquet(buffer, engine=\"pyarrow\") \n",
    "    df.columns = df.columns.str.lower()\n",
    "    dataframes.append(df)\n",
    "\n",
    "df = pd.concat(dataframes, ignore_index=True)\n",
    "df['tpep_pickup_datetime'] = pd.to_datetime(df['tpep_pickup_datetime'])\n",
    "df['tpep_dropoff_datetime'] = pd.to_datetime(df['tpep_dropoff_datetime'])\n"
   ]
  },
  {
   "cell_type": "code",
   "execution_count": 40,
   "metadata": {},
   "outputs": [
    {
     "data": {
      "text/plain": [
       "(5980721, 19)"
      ]
     },
     "execution_count": 40,
     "metadata": {},
     "output_type": "execute_result"
    }
   ],
   "source": [
    "df.shape"
   ]
  },
  {
   "cell_type": "code",
   "execution_count": 41,
   "metadata": {},
   "outputs": [],
   "source": [
    "df['duration_minutes'] = (df['tpep_dropoff_datetime'] - df['tpep_pickup_datetime']).dt.total_seconds() / 60"
   ]
  },
  {
   "cell_type": "code",
   "execution_count": 42,
   "metadata": {},
   "outputs": [
    {
     "name": "stdout",
     "output_type": "stream",
     "text": [
      "Standard deviation of trip duration in January 2023: 42.59\n"
     ]
    }
   ],
   "source": [
    "std_duration=df[df['tpep_pickup_datetime'].dt.month == 1]['duration_minutes'].std()\n",
    "print(f\"Standard deviation of trip duration in January 2023: {std_duration:.2f}\")"
   ]
  },
  {
   "cell_type": "code",
   "execution_count": 43,
   "metadata": {},
   "outputs": [
    {
     "name": "stdout",
     "output_type": "stream",
     "text": [
      "Fraction remaining: 98.12%\n"
     ]
    }
   ],
   "source": [
    "df_january = df[df['tpep_pickup_datetime'].dt.month == 1].copy()\n",
    "df_january = df_january[(df_january['duration_minutes'] >= 1) & (df_january['duration_minutes'] <= 60)]\n",
    "\n",
    "fraction_remaining = len(df_january) / len(df[df['tpep_pickup_datetime'].dt.month == 1])\n",
    "print(f\"Fraction remaining: {fraction_remaining:.2%}\")\n"
   ]
  },
  {
   "cell_type": "code",
   "execution_count": null,
   "metadata": {},
   "outputs": [
    {
     "name": "stdout",
     "output_type": "stream",
     "text": [
      "Fraction remaining: 0.9807\n"
     ]
    }
   ],
   "source": [
    "\n",
    "# Select relevant columns and convert to string\n",
    "df_encoded = df_january[['pulocationid', 'dolocationid']].copy()\n",
    "df_encoded.columns = ['pulocationid', 'dolocationid']\n",
    "df_encoded = df_encoded.astype(str)\n",
    "\n",
    "# Convert to list of dictionaries\n",
    "dicts = df_encoded.to_dict(orient='records')\n",
    "\n",
    "# Vectorize\n",
    "dv = DictVectorizer()\n",
    "X_train = dv.fit_transform(dicts)\n",
    "\n",
    "print(f\"Feature matrix shape: {X_train.shape}\")\n"
   ]
  },
  {
   "cell_type": "code",
   "execution_count": 44,
   "metadata": {},
   "outputs": [
    {
     "name": "stdout",
     "output_type": "stream",
     "text": [
      "Feature matrix shape: (3009145, 515)\n"
     ]
    }
   ],
   "source": [
    "df_encoded = df_january[['pulocationid', 'dolocationid']].copy()\n",
    "df_encoded = df_encoded.astype(str)\n",
    "dicts = df_encoded.to_dict(orient='records')\n",
    "dv = DictVectorizer()\n",
    "X_train = dv.fit_transform(dicts)\n",
    "\n",
    "print(f\"Feature matrix shape: {X_train.shape}\")"
   ]
  },
  {
   "cell_type": "code",
   "execution_count": 46,
   "metadata": {},
   "outputs": [
    {
     "name": "stdout",
     "output_type": "stream",
     "text": [
      "Train RMSE: 7.65\n"
     ]
    }
   ],
   "source": [
    "# Target variable\n",
    "y_train = df_january['duration_minutes'].values\n",
    "\n",
    "# Train the model\n",
    "model = LinearRegression()\n",
    "model.fit(X_train, y_train)\n",
    "\n",
    "# Predict and compute RMSE\n",
    "y_pred = model.predict(X_train)\n",
    "rmse = np.sqrt(mean_squared_error(y_train, y_pred))\n",
    "print(f\"Train RMSE: {rmse:.2f}\")\n",
    "\n",
    "# Save model and vectorizer\n",
    "with open('model.bin', 'wb') as f_out:\n",
    "    pickle.dump((dv, model), f_out)"
   ]
  },
  {
   "cell_type": "code",
   "execution_count": null,
   "metadata": {},
   "outputs": [
    {
     "name": "stdout",
     "output_type": "stream",
     "text": [
      "Validation RMSE: 7.81\n"
     ]
    }
   ],
   "source": [
    "with open('model.bin', 'rb') as f_in:\n",
    "    dv, model = pickle.load(f_in)\n",
    "\n",
    "\n",
    "df_feb = df[df['tpep_pickup_datetime'].dt.month == 2].copy()\n",
    "df_feb = df_feb[(df_feb['duration_minutes'] >= 1) & (df_feb['duration_minutes'] <= 60)]\n",
    "\n",
    "\n",
    "df_val_encoded = df_feb[['pulocationid', 'dolocationid']].copy()\n",
    "df_val_encoded = df_val_encoded.astype(str)\n",
    "dicts_val = df_val_encoded.to_dict(orient='records')\n",
    "X_val = dv.transform(dicts_val)\n",
    "\n",
    "\n",
    "y_val = df_feb['duration_minutes'].values\n",
    "y_pred = model.predict(X_val)\n",
    "rmse_val = np.sqrt(mean_squared_error(y_val, y_pred))\n",
    "print(f\"Validation RMSE: {rmse_val:.2f}\")\n"
   ]
  }
 ],
 "metadata": {
  "kernelspec": {
   "display_name": ".venv",
   "language": "python",
   "name": "python3"
  },
  "language_info": {
   "codemirror_mode": {
    "name": "ipython",
    "version": 3
   },
   "file_extension": ".py",
   "mimetype": "text/x-python",
   "name": "python",
   "nbconvert_exporter": "python",
   "pygments_lexer": "ipython3",
   "version": "3.11.4"
  }
 },
 "nbformat": 4,
 "nbformat_minor": 2
}
